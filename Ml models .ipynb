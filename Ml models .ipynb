{
 "cells": [
  {
   "cell_type": "code",
   "execution_count": 1,
   "id": "347faaf8",
   "metadata": {},
   "outputs": [],
   "source": [
    "import numpy as np\n",
    "import pandas as pd\n",
    "import matplotlib.pyplot as plt\n",
    "%matplotlib inline\n",
    "import seaborn as sns\n",
    "\n",
    "import warnings\n",
    "warnings.filterwarnings('ignore')"
   ]
  },
  {
   "cell_type": "code",
   "execution_count": 2,
   "id": "5596736d",
   "metadata": {},
   "outputs": [],
   "source": [
    "app_df = pd.read_csv(\"./application_record.csv\")\n",
    "credit_df = pd.read_csv(\"./credit_record.csv\")"
   ]
  },
  {
   "cell_type": "code",
   "execution_count": 3,
   "id": "7d7167f7",
   "metadata": {},
   "outputs": [],
   "source": [
    "# dropping occupation type which has many null values\n",
    "app_df.drop('OCCUPATION_TYPE', axis=1, inplace=True)"
   ]
  },
  {
   "cell_type": "code",
   "execution_count": 4,
   "id": "054a0517",
   "metadata": {},
   "outputs": [
    {
     "data": {
      "text/plain": [
       "47"
      ]
     },
     "execution_count": 4,
     "metadata": {},
     "output_type": "execute_result"
    }
   ],
   "source": [
    "# Checking duplicates in 'ID' column\n",
    "len(app_df['ID']) - len(app_df['ID'].unique())"
   ]
  },
  {
   "cell_type": "code",
   "execution_count": 5,
   "id": "a30764c7",
   "metadata": {},
   "outputs": [],
   "source": [
    "# Dropping duplicate entries from ID column\n",
    "app_df = app_df.drop_duplicates('ID', keep='last') "
   ]
  },
  {
   "cell_type": "code",
   "execution_count": 6,
   "id": "a4a32ff2",
   "metadata": {},
   "outputs": [
    {
     "data": {
      "text/plain": [
       "['CODE_GENDER',\n",
       " 'FLAG_OWN_CAR',\n",
       " 'FLAG_OWN_REALTY',\n",
       " 'NAME_INCOME_TYPE',\n",
       " 'NAME_EDUCATION_TYPE',\n",
       " 'NAME_FAMILY_STATUS',\n",
       " 'NAME_HOUSING_TYPE']"
      ]
     },
     "execution_count": 6,
     "metadata": {},
     "output_type": "execute_result"
    }
   ],
   "source": [
    "# Checking Non-Numerical Columns\n",
    "cat_columns = app_df.columns[(app_df.dtypes =='object').values].tolist()\n",
    "cat_columns"
   ]
  },
  {
   "cell_type": "code",
   "execution_count": 7,
   "id": "2d0c7ba9",
   "metadata": {},
   "outputs": [
    {
     "data": {
      "text/plain": [
       "['ID',\n",
       " 'CNT_CHILDREN',\n",
       " 'AMT_INCOME_TOTAL',\n",
       " 'DAYS_BIRTH',\n",
       " 'DAYS_EMPLOYED',\n",
       " 'FLAG_MOBIL',\n",
       " 'FLAG_WORK_PHONE',\n",
       " 'FLAG_PHONE',\n",
       " 'FLAG_EMAIL',\n",
       " 'CNT_FAM_MEMBERS']"
      ]
     },
     "execution_count": 7,
     "metadata": {},
     "output_type": "execute_result"
    }
   ],
   "source": [
    "# Checking Numerical Columns\n",
    "app_df.columns[(app_df.dtypes !='object').values].tolist()"
   ]
  },
  {
   "cell_type": "code",
   "execution_count": 8,
   "id": "83503540",
   "metadata": {},
   "outputs": [
    {
     "name": "stdout",
     "output_type": "stream",
     "text": [
      "Min DAYS_BIRTH : -25201 \n",
      "Max DAYS_BIRTH : -7489\n"
     ]
    }
   ],
   "source": [
    "# Checking Min , Max values from 'DAYS_BIRTH' column\n",
    "print('Min DAYS_BIRTH :', app_df['DAYS_BIRTH'].min(),'\\nMax DAYS_BIRTH :', app_df['DAYS_BIRTH'].max())"
   ]
  },
  {
   "cell_type": "code",
   "execution_count": 9,
   "id": "f7786c4c",
   "metadata": {},
   "outputs": [],
   "source": [
    "# Converting 'DAYS_BIRTH' values from Day to Years\n",
    "app_df['DAYS_BIRTH'] = round(app_df['DAYS_BIRTH']/-365,0)\n",
    "app_df.rename(columns={'DAYS_BIRTH':'AGE_YEARS'}, inplace=True)"
   ]
  },
  {
   "cell_type": "code",
   "execution_count": 10,
   "id": "8ed84115",
   "metadata": {},
   "outputs": [],
   "source": [
    "# As mentioned in document, if 'DAYS_EMPLOYED' is positive no, it means person currently unemployed, hence replacing it with 0\n",
    "app_df['DAYS_EMPLOYED'].replace(365243, 0, inplace=True)"
   ]
  },
  {
   "cell_type": "code",
   "execution_count": 11,
   "id": "6919eeea",
   "metadata": {},
   "outputs": [],
   "source": [
    "# Converting 'DAYS_EMPLOYED' values from Day to Years\n",
    "app_df['DAYS_EMPLOYED'] = abs(round(app_df['DAYS_EMPLOYED']/-365,0))\n",
    "app_df.rename(columns={'DAYS_EMPLOYED':'YEARS_EMPLOYED'}, inplace=True)   "
   ]
  },
  {
   "cell_type": "code",
   "execution_count": 12,
   "id": "892bed07",
   "metadata": {},
   "outputs": [],
   "source": [
    "# As all the values in column are 1, hence dropping column\n",
    "app_df.drop('FLAG_MOBIL', axis=1, inplace=True)"
   ]
  },
  {
   "cell_type": "code",
   "execution_count": 13,
   "id": "6b101527",
   "metadata": {},
   "outputs": [],
   "source": [
    "# This column only contains 0 & 1 values for Mobile no submitted, hence dropping column\n",
    "app_df.drop('FLAG_WORK_PHONE', axis=1, inplace=True)"
   ]
  },
  {
   "cell_type": "code",
   "execution_count": 14,
   "id": "aef1696e",
   "metadata": {},
   "outputs": [],
   "source": [
    "# This column only contains 0 & 1 values for Phone no submitted, hence dropping column\n",
    "app_df.drop('FLAG_PHONE', axis=1, inplace=True)"
   ]
  },
  {
   "cell_type": "code",
   "execution_count": 15,
   "id": "934a4d24",
   "metadata": {},
   "outputs": [],
   "source": [
    "# This column only contains 0 & 1 values for Email submitted, hence dropping column\n",
    "app_df.drop('FLAG_EMAIL', axis=1, inplace=True)"
   ]
  },
  {
   "cell_type": "code",
   "execution_count": 16,
   "id": "b32de1fc",
   "metadata": {},
   "outputs": [
    {
     "name": "stdout",
     "output_type": "stream",
     "text": [
      "high_bound : 4.0\n",
      "low_bound : 0.0\n"
     ]
    }
   ],
   "source": [
    "high_bound = app_df['CNT_CHILDREN'].quantile(0.999)\n",
    "print('high_bound :', high_bound)\n",
    "low_bound = app_df['CNT_CHILDREN'].quantile(0.001)\n",
    "print('low_bound :', low_bound)"
   ]
  },
  {
   "cell_type": "code",
   "execution_count": 17,
   "id": "d83bcedc",
   "metadata": {},
   "outputs": [],
   "source": [
    "app_df = app_df[(app_df['CNT_CHILDREN']>=low_bound) & (app_df['CNT_CHILDREN']<=high_bound)]"
   ]
  },
  {
   "cell_type": "code",
   "execution_count": 18,
   "id": "5cc3a4d7",
   "metadata": {},
   "outputs": [
    {
     "name": "stdout",
     "output_type": "stream",
     "text": [
      "high_bound : 990000.0\n",
      "low_bound : 36000.0\n"
     ]
    }
   ],
   "source": [
    "high_bound = app_df['AMT_INCOME_TOTAL'].quantile(0.999)\n",
    "print('high_bound :', high_bound)\n",
    "low_bound = app_df['AMT_INCOME_TOTAL'].quantile(0.001)\n",
    "print('low_bound :', low_bound)"
   ]
  },
  {
   "cell_type": "code",
   "execution_count": 19,
   "id": "dd806bd6",
   "metadata": {},
   "outputs": [],
   "source": [
    "app_df = app_df[(app_df['AMT_INCOME_TOTAL']>=low_bound) & (app_df['AMT_INCOME_TOTAL']<=high_bound)]"
   ]
  },
  {
   "cell_type": "code",
   "execution_count": 20,
   "id": "63031c39",
   "metadata": {},
   "outputs": [
    {
     "name": "stdout",
     "output_type": "stream",
     "text": [
      "high_bound : 40.0\n",
      "low_bound : 0.0\n"
     ]
    }
   ],
   "source": [
    "high_bound = app_df['YEARS_EMPLOYED'].quantile(0.999)\n",
    "print('high_bound :', high_bound)\n",
    "low_bound = app_df['YEARS_EMPLOYED'].quantile(0.001)\n",
    "print('low_bound :', low_bound)"
   ]
  },
  {
   "cell_type": "code",
   "execution_count": 21,
   "id": "7ff40341",
   "metadata": {},
   "outputs": [],
   "source": [
    "app_df = app_df[(app_df['YEARS_EMPLOYED']>=low_bound) & (app_df['YEARS_EMPLOYED']<=high_bound)]"
   ]
  },
  {
   "cell_type": "code",
   "execution_count": 22,
   "id": "9da17475",
   "metadata": {},
   "outputs": [
    {
     "name": "stdout",
     "output_type": "stream",
     "text": [
      "high_bound : 6.0\n",
      "low_bound : 1.0\n"
     ]
    }
   ],
   "source": [
    "high_bound = app_df['CNT_FAM_MEMBERS'].quantile(0.999)\n",
    "print('high_bound :', high_bound)\n",
    "low_bound = app_df['CNT_FAM_MEMBERS'].quantile(0.001)\n",
    "print('low_bound :', low_bound)\n",
    "\n",
    "\n",
    "app_df = app_df[(app_df['CNT_FAM_MEMBERS']>=low_bound) & (app_df['CNT_FAM_MEMBERS']<=high_bound)]\n",
    "\n"
   ]
  },
  {
   "cell_type": "code",
   "execution_count": 23,
   "id": "801f1aff",
   "metadata": {},
   "outputs": [],
   "source": [
    "# categorizing 'STATUS' column to binary classification   0 : Good Client and 1 : bad client\n",
    "credit_df['STATUS'].replace(['C', 'X'],0, inplace=True)\n",
    "\n",
    "\n",
    "credit_df['STATUS'].replace(['2','3','4','5'],1, inplace=True)\n",
    "credit_df['STATUS'] = credit_df['STATUS'].astype('int')\n",
    "credit_df['STATUS'].value_counts(normalize=True)*100\n",
    "credit_df_trans = credit_df.groupby('ID').agg(max).reset_index()\n",
    "credit_df_trans.drop('MONTHS_BALANCE', axis=1, inplace=True)\n",
    "    "
   ]
  },
  {
   "cell_type": "code",
   "execution_count": 24,
   "id": "7e7c761e",
   "metadata": {},
   "outputs": [
    {
     "data": {
      "text/plain": [
       "0    88.365771\n",
       "1    11.634229\n",
       "Name: STATUS, dtype: float64"
      ]
     },
     "execution_count": 24,
     "metadata": {},
     "output_type": "execute_result"
    }
   ],
   "source": [
    "credit_df_trans['STATUS'].value_counts(normalize=True)*100"
   ]
  },
  {
   "cell_type": "code",
   "execution_count": 25,
   "id": "f3608f74",
   "metadata": {},
   "outputs": [
    {
     "data": {
      "text/html": [
       "<div>\n",
       "<style scoped>\n",
       "    .dataframe tbody tr th:only-of-type {\n",
       "        vertical-align: middle;\n",
       "    }\n",
       "\n",
       "    .dataframe tbody tr th {\n",
       "        vertical-align: top;\n",
       "    }\n",
       "\n",
       "    .dataframe thead th {\n",
       "        text-align: right;\n",
       "    }\n",
       "</style>\n",
       "<table border=\"1\" class=\"dataframe\">\n",
       "  <thead>\n",
       "    <tr style=\"text-align: right;\">\n",
       "      <th></th>\n",
       "      <th>ID</th>\n",
       "      <th>CODE_GENDER</th>\n",
       "      <th>FLAG_OWN_CAR</th>\n",
       "      <th>FLAG_OWN_REALTY</th>\n",
       "      <th>CNT_CHILDREN</th>\n",
       "      <th>AMT_INCOME_TOTAL</th>\n",
       "      <th>NAME_INCOME_TYPE</th>\n",
       "      <th>NAME_EDUCATION_TYPE</th>\n",
       "      <th>NAME_FAMILY_STATUS</th>\n",
       "      <th>NAME_HOUSING_TYPE</th>\n",
       "      <th>AGE_YEARS</th>\n",
       "      <th>YEARS_EMPLOYED</th>\n",
       "      <th>CNT_FAM_MEMBERS</th>\n",
       "      <th>STATUS</th>\n",
       "    </tr>\n",
       "  </thead>\n",
       "  <tbody>\n",
       "    <tr>\n",
       "      <th>0</th>\n",
       "      <td>5008804</td>\n",
       "      <td>M</td>\n",
       "      <td>Y</td>\n",
       "      <td>Y</td>\n",
       "      <td>0</td>\n",
       "      <td>427500.0</td>\n",
       "      <td>Working</td>\n",
       "      <td>Higher education</td>\n",
       "      <td>Civil marriage</td>\n",
       "      <td>Rented apartment</td>\n",
       "      <td>33.0</td>\n",
       "      <td>12.0</td>\n",
       "      <td>2.0</td>\n",
       "      <td>1</td>\n",
       "    </tr>\n",
       "    <tr>\n",
       "      <th>1</th>\n",
       "      <td>5008805</td>\n",
       "      <td>M</td>\n",
       "      <td>Y</td>\n",
       "      <td>Y</td>\n",
       "      <td>0</td>\n",
       "      <td>427500.0</td>\n",
       "      <td>Working</td>\n",
       "      <td>Higher education</td>\n",
       "      <td>Civil marriage</td>\n",
       "      <td>Rented apartment</td>\n",
       "      <td>33.0</td>\n",
       "      <td>12.0</td>\n",
       "      <td>2.0</td>\n",
       "      <td>1</td>\n",
       "    </tr>\n",
       "    <tr>\n",
       "      <th>2</th>\n",
       "      <td>5008806</td>\n",
       "      <td>M</td>\n",
       "      <td>Y</td>\n",
       "      <td>Y</td>\n",
       "      <td>0</td>\n",
       "      <td>112500.0</td>\n",
       "      <td>Working</td>\n",
       "      <td>Secondary / secondary special</td>\n",
       "      <td>Married</td>\n",
       "      <td>House / apartment</td>\n",
       "      <td>59.0</td>\n",
       "      <td>3.0</td>\n",
       "      <td>2.0</td>\n",
       "      <td>0</td>\n",
       "    </tr>\n",
       "    <tr>\n",
       "      <th>3</th>\n",
       "      <td>5008808</td>\n",
       "      <td>F</td>\n",
       "      <td>N</td>\n",
       "      <td>Y</td>\n",
       "      <td>0</td>\n",
       "      <td>270000.0</td>\n",
       "      <td>Commercial associate</td>\n",
       "      <td>Secondary / secondary special</td>\n",
       "      <td>Single / not married</td>\n",
       "      <td>House / apartment</td>\n",
       "      <td>52.0</td>\n",
       "      <td>8.0</td>\n",
       "      <td>1.0</td>\n",
       "      <td>0</td>\n",
       "    </tr>\n",
       "    <tr>\n",
       "      <th>4</th>\n",
       "      <td>5008809</td>\n",
       "      <td>F</td>\n",
       "      <td>N</td>\n",
       "      <td>Y</td>\n",
       "      <td>0</td>\n",
       "      <td>270000.0</td>\n",
       "      <td>Commercial associate</td>\n",
       "      <td>Secondary / secondary special</td>\n",
       "      <td>Single / not married</td>\n",
       "      <td>House / apartment</td>\n",
       "      <td>52.0</td>\n",
       "      <td>8.0</td>\n",
       "      <td>1.0</td>\n",
       "      <td>0</td>\n",
       "    </tr>\n",
       "  </tbody>\n",
       "</table>\n",
       "</div>"
      ],
      "text/plain": [
       "        ID CODE_GENDER FLAG_OWN_CAR FLAG_OWN_REALTY  CNT_CHILDREN  \\\n",
       "0  5008804           M            Y               Y             0   \n",
       "1  5008805           M            Y               Y             0   \n",
       "2  5008806           M            Y               Y             0   \n",
       "3  5008808           F            N               Y             0   \n",
       "4  5008809           F            N               Y             0   \n",
       "\n",
       "   AMT_INCOME_TOTAL      NAME_INCOME_TYPE            NAME_EDUCATION_TYPE  \\\n",
       "0          427500.0               Working               Higher education   \n",
       "1          427500.0               Working               Higher education   \n",
       "2          112500.0               Working  Secondary / secondary special   \n",
       "3          270000.0  Commercial associate  Secondary / secondary special   \n",
       "4          270000.0  Commercial associate  Secondary / secondary special   \n",
       "\n",
       "     NAME_FAMILY_STATUS  NAME_HOUSING_TYPE  AGE_YEARS  YEARS_EMPLOYED  \\\n",
       "0        Civil marriage   Rented apartment       33.0            12.0   \n",
       "1        Civil marriage   Rented apartment       33.0            12.0   \n",
       "2               Married  House / apartment       59.0             3.0   \n",
       "3  Single / not married  House / apartment       52.0             8.0   \n",
       "4  Single / not married  House / apartment       52.0             8.0   \n",
       "\n",
       "   CNT_FAM_MEMBERS  STATUS  \n",
       "0              2.0       1  \n",
       "1              2.0       1  \n",
       "2              2.0       0  \n",
       "3              1.0       0  \n",
       "4              1.0       0  "
      ]
     },
     "execution_count": 25,
     "metadata": {},
     "output_type": "execute_result"
    }
   ],
   "source": [
    "# merging the two datasets based on 'ID'\n",
    "final_df = pd.merge(app_df, credit_df_trans, on='ID', how='inner')\n",
    "final_df.head()"
   ]
  },
  {
   "cell_type": "code",
   "execution_count": 26,
   "id": "686e5690",
   "metadata": {},
   "outputs": [],
   "source": [
    "# dropping 'ID' column as it is having only unique values (not required for ML Model)\n",
    "final_df.drop('ID', axis=1, inplace=True)"
   ]
  },
  {
   "cell_type": "code",
   "execution_count": 27,
   "id": "0262b8be",
   "metadata": {},
   "outputs": [
    {
     "data": {
      "text/plain": [
       "25268"
      ]
     },
     "execution_count": 27,
     "metadata": {},
     "output_type": "execute_result"
    }
   ],
   "source": [
    "# checking if there are still duplicate rows in Final Dataframe\n",
    "len(final_df) - len(final_df.drop_duplicates())"
   ]
  },
  {
   "cell_type": "code",
   "execution_count": 28,
   "id": "018d75e5",
   "metadata": {},
   "outputs": [],
   "source": [
    "# Dropping duplicate records\n",
    "final_df = final_df.drop_duplicates()\n",
    "final_df.reset_index(drop=True ,inplace=True)"
   ]
  },
  {
   "cell_type": "code",
   "execution_count": 29,
   "id": "4378c430",
   "metadata": {},
   "outputs": [
    {
     "data": {
      "text/plain": [
       "0    78.513294\n",
       "1    21.486706\n",
       "Name: STATUS, dtype: float64"
      ]
     },
     "execution_count": 29,
     "metadata": {},
     "output_type": "execute_result"
    }
   ],
   "source": [
    "final_df['STATUS'].value_counts(normalize=True)*100"
   ]
  },
  {
   "cell_type": "code",
   "execution_count": 30,
   "id": "03edbb16",
   "metadata": {},
   "outputs": [
    {
     "data": {
      "text/plain": [
       "['CODE_GENDER',\n",
       " 'FLAG_OWN_CAR',\n",
       " 'FLAG_OWN_REALTY',\n",
       " 'NAME_INCOME_TYPE',\n",
       " 'NAME_EDUCATION_TYPE',\n",
       " 'NAME_FAMILY_STATUS',\n",
       " 'NAME_HOUSING_TYPE']"
      ]
     },
     "execution_count": 30,
     "metadata": {},
     "output_type": "execute_result"
    }
   ],
   "source": [
    "cat_columns = final_df.columns[(final_df.dtypes =='object').values].tolist()\n",
    "cat_columns"
   ]
  },
  {
   "cell_type": "code",
   "execution_count": 31,
   "id": "23c775de",
   "metadata": {},
   "outputs": [
    {
     "data": {
      "text/html": [
       "<div>\n",
       "<style scoped>\n",
       "    .dataframe tbody tr th:only-of-type {\n",
       "        vertical-align: middle;\n",
       "    }\n",
       "\n",
       "    .dataframe tbody tr th {\n",
       "        vertical-align: top;\n",
       "    }\n",
       "\n",
       "    .dataframe thead th {\n",
       "        text-align: right;\n",
       "    }\n",
       "</style>\n",
       "<table border=\"1\" class=\"dataframe\">\n",
       "  <thead>\n",
       "    <tr style=\"text-align: right;\">\n",
       "      <th></th>\n",
       "      <th>CODE_GENDER</th>\n",
       "      <th>FLAG_OWN_CAR</th>\n",
       "      <th>FLAG_OWN_REALTY</th>\n",
       "      <th>CNT_CHILDREN</th>\n",
       "      <th>AMT_INCOME_TOTAL</th>\n",
       "      <th>NAME_INCOME_TYPE</th>\n",
       "      <th>NAME_EDUCATION_TYPE</th>\n",
       "      <th>NAME_FAMILY_STATUS</th>\n",
       "      <th>NAME_HOUSING_TYPE</th>\n",
       "      <th>AGE_YEARS</th>\n",
       "      <th>YEARS_EMPLOYED</th>\n",
       "      <th>CNT_FAM_MEMBERS</th>\n",
       "      <th>STATUS</th>\n",
       "    </tr>\n",
       "  </thead>\n",
       "  <tbody>\n",
       "    <tr>\n",
       "      <th>0</th>\n",
       "      <td>1</td>\n",
       "      <td>1</td>\n",
       "      <td>1</td>\n",
       "      <td>0</td>\n",
       "      <td>427500.0</td>\n",
       "      <td>4</td>\n",
       "      <td>1</td>\n",
       "      <td>0</td>\n",
       "      <td>4</td>\n",
       "      <td>33.0</td>\n",
       "      <td>12.0</td>\n",
       "      <td>2.0</td>\n",
       "      <td>1</td>\n",
       "    </tr>\n",
       "    <tr>\n",
       "      <th>1</th>\n",
       "      <td>1</td>\n",
       "      <td>1</td>\n",
       "      <td>1</td>\n",
       "      <td>0</td>\n",
       "      <td>112500.0</td>\n",
       "      <td>4</td>\n",
       "      <td>4</td>\n",
       "      <td>1</td>\n",
       "      <td>1</td>\n",
       "      <td>59.0</td>\n",
       "      <td>3.0</td>\n",
       "      <td>2.0</td>\n",
       "      <td>0</td>\n",
       "    </tr>\n",
       "    <tr>\n",
       "      <th>2</th>\n",
       "      <td>0</td>\n",
       "      <td>0</td>\n",
       "      <td>1</td>\n",
       "      <td>0</td>\n",
       "      <td>270000.0</td>\n",
       "      <td>0</td>\n",
       "      <td>4</td>\n",
       "      <td>3</td>\n",
       "      <td>1</td>\n",
       "      <td>52.0</td>\n",
       "      <td>8.0</td>\n",
       "      <td>1.0</td>\n",
       "      <td>0</td>\n",
       "    </tr>\n",
       "    <tr>\n",
       "      <th>3</th>\n",
       "      <td>0</td>\n",
       "      <td>0</td>\n",
       "      <td>1</td>\n",
       "      <td>0</td>\n",
       "      <td>283500.0</td>\n",
       "      <td>1</td>\n",
       "      <td>1</td>\n",
       "      <td>2</td>\n",
       "      <td>1</td>\n",
       "      <td>62.0</td>\n",
       "      <td>0.0</td>\n",
       "      <td>1.0</td>\n",
       "      <td>0</td>\n",
       "    </tr>\n",
       "    <tr>\n",
       "      <th>4</th>\n",
       "      <td>1</td>\n",
       "      <td>1</td>\n",
       "      <td>1</td>\n",
       "      <td>0</td>\n",
       "      <td>270000.0</td>\n",
       "      <td>4</td>\n",
       "      <td>1</td>\n",
       "      <td>1</td>\n",
       "      <td>1</td>\n",
       "      <td>46.0</td>\n",
       "      <td>2.0</td>\n",
       "      <td>2.0</td>\n",
       "      <td>0</td>\n",
       "    </tr>\n",
       "  </tbody>\n",
       "</table>\n",
       "</div>"
      ],
      "text/plain": [
       "   CODE_GENDER  FLAG_OWN_CAR  FLAG_OWN_REALTY  CNT_CHILDREN  AMT_INCOME_TOTAL  \\\n",
       "0            1             1                1             0          427500.0   \n",
       "1            1             1                1             0          112500.0   \n",
       "2            0             0                1             0          270000.0   \n",
       "3            0             0                1             0          283500.0   \n",
       "4            1             1                1             0          270000.0   \n",
       "\n",
       "   NAME_INCOME_TYPE  NAME_EDUCATION_TYPE  NAME_FAMILY_STATUS  \\\n",
       "0                 4                    1                   0   \n",
       "1                 4                    4                   1   \n",
       "2                 0                    4                   3   \n",
       "3                 1                    1                   2   \n",
       "4                 4                    1                   1   \n",
       "\n",
       "   NAME_HOUSING_TYPE  AGE_YEARS  YEARS_EMPLOYED  CNT_FAM_MEMBERS  STATUS  \n",
       "0                  4       33.0            12.0              2.0       1  \n",
       "1                  1       59.0             3.0              2.0       0  \n",
       "2                  1       52.0             8.0              1.0       0  \n",
       "3                  1       62.0             0.0              1.0       0  \n",
       "4                  1       46.0             2.0              2.0       0  "
      ]
     },
     "execution_count": 31,
     "metadata": {},
     "output_type": "execute_result"
    }
   ],
   "source": [
    "#Converting all Non-Numerical Columns to Numerical\n",
    "from sklearn.preprocessing import LabelEncoder\n",
    "\n",
    "for col in cat_columns:\n",
    "        globals()['LE_{}'.format(col)] = LabelEncoder()\n",
    "        final_df[col] = globals()['LE_{}'.format(col)].fit_transform(final_df[col])\n",
    "final_df.head() "
   ]
  },
  {
   "cell_type": "code",
   "execution_count": 32,
   "id": "42fa164f",
   "metadata": {},
   "outputs": [
    {
     "name": "stdout",
     "output_type": "stream",
     "text": [
      "CODE_GENDER   :  ['F' 'M']\n",
      "FLAG_OWN_CAR   :  ['N' 'Y']\n",
      "FLAG_OWN_REALTY   :  ['N' 'Y']\n",
      "NAME_INCOME_TYPE   :  ['Commercial associate' 'Pensioner' 'State servant' 'Student' 'Working']\n",
      "NAME_EDUCATION_TYPE   :  ['Academic degree' 'Higher education' 'Incomplete higher'\n",
      " 'Lower secondary' 'Secondary / secondary special']\n",
      "NAME_FAMILY_STATUS   :  ['Civil marriage' 'Married' 'Separated' 'Single / not married' 'Widow']\n",
      "NAME_HOUSING_TYPE   :  ['Co-op apartment' 'House / apartment' 'Municipal apartment'\n",
      " 'Office apartment' 'Rented apartment' 'With parents']\n"
     ]
    }
   ],
   "source": [
    "for col in cat_columns:\n",
    "    print(col , \"  : \", globals()['LE_{}'.format(col)].classes_)"
   ]
  },
  {
   "cell_type": "code",
   "execution_count": 33,
   "id": "fbcd1cc2",
   "metadata": {},
   "outputs": [],
   "source": [
    "features = final_df.drop(['STATUS'], axis=1)\n",
    "label = final_df['STATUS']"
   ]
  },
  {
   "cell_type": "code",
   "execution_count": 34,
   "id": "813283fe",
   "metadata": {},
   "outputs": [],
   "source": [
    "#ML Method"
   ]
  },
  {
   "cell_type": "code",
   "execution_count": 35,
   "id": "03454a6b",
   "metadata": {},
   "outputs": [],
   "source": [
    "from sklearn.model_selection import train_test_split\n",
    "x_train, x_test, y_train, y_test = train_test_split(features,\n",
    "                                                    label,\n",
    "                                                    test_size=0.2,\n",
    "                                                    random_state = 10)"
   ]
  },
  {
   "cell_type": "code",
   "execution_count": 36,
   "id": "10d1b2cd",
   "metadata": {},
   "outputs": [
    {
     "name": "stdout",
     "output_type": "stream",
     "text": [
      "Logistic Model Accuracy :  78.84267631103074 %\n",
      "\n",
      "Confusion matrix :\n",
      "[[1744    0]\n",
      " [ 468    0]]\n",
      "\n",
      "Classification report:\n",
      "              precision    recall  f1-score   support\n",
      "\n",
      "           0       0.79      1.00      0.88      1744\n",
      "           1       0.00      0.00      0.00       468\n",
      "\n",
      "    accuracy                           0.79      2212\n",
      "   macro avg       0.39      0.50      0.44      2212\n",
      "weighted avg       0.62      0.79      0.70      2212\n",
      "\n"
     ]
    }
   ],
   "source": [
    "# Logistic Regression\n",
    "\n",
    "from sklearn.linear_model import LogisticRegression\n",
    "from sklearn.metrics import classification_report, accuracy_score, confusion_matrix\n",
    "\n",
    "log_model = LogisticRegression()\n",
    "log_model.fit(x_train, y_train)\n",
    "\n",
    "print('Logistic Model Accuracy : ', log_model.score(x_test, y_test)*100, '%')\n",
    "\n",
    "prediction = log_model.predict(x_test)\n",
    "print('\\nConfusion matrix :')\n",
    "print(confusion_matrix(y_test, prediction))\n",
    "      \n",
    "print('\\nClassification report:')      \n",
    "print(classification_report(y_test, prediction))"
   ]
  },
  {
   "cell_type": "code",
   "execution_count": 37,
   "id": "1f721abd",
   "metadata": {},
   "outputs": [
    {
     "name": "stdout",
     "output_type": "stream",
     "text": [
      "Decision Tree Model Accuracy :  73.41772151898735 %\n",
      "\n",
      "Confusion matrix :\n",
      "[[1612  132]\n",
      " [ 456   12]]\n",
      "\n",
      "Classification report:\n",
      "              precision    recall  f1-score   support\n",
      "\n",
      "           0       0.78      0.92      0.85      1744\n",
      "           1       0.08      0.03      0.04       468\n",
      "\n",
      "    accuracy                           0.73      2212\n",
      "   macro avg       0.43      0.47      0.44      2212\n",
      "weighted avg       0.63      0.73      0.68      2212\n",
      "\n"
     ]
    }
   ],
   "source": [
    "# Decision Tree classification\n",
    "\n",
    "from sklearn.tree import DecisionTreeClassifier\n",
    "\n",
    "decision_model = DecisionTreeClassifier(max_depth=12,min_samples_split=8)\n",
    "\n",
    "decision_model.fit(x_train, y_train)\n",
    "\n",
    "print('Decision Tree Model Accuracy : ', decision_model.score(x_test, y_test)*100, '%')\n",
    "\n",
    "prediction = decision_model.predict(x_test)\n",
    "print('\\nConfusion matrix :')\n",
    "print(confusion_matrix(y_test, prediction))\n",
    "      \n",
    "print('\\nClassification report:')      \n",
    "print(classification_report(y_test, prediction))"
   ]
  },
  {
   "cell_type": "code",
   "execution_count": 38,
   "id": "a7e1d2dc",
   "metadata": {},
   "outputs": [
    {
     "name": "stdout",
     "output_type": "stream",
     "text": [
      "Random Forest Model Accuracy :  78.84267631103074 %\n",
      "\n",
      "Confusion matrix :\n",
      "[[1744    0]\n",
      " [ 468    0]]\n",
      "\n",
      "Classification report:\n",
      "              precision    recall  f1-score   support\n",
      "\n",
      "           0       0.79      1.00      0.88      1744\n",
      "           1       0.00      0.00      0.00       468\n",
      "\n",
      "    accuracy                           0.79      2212\n",
      "   macro avg       0.39      0.50      0.44      2212\n",
      "weighted avg       0.62      0.79      0.70      2212\n",
      "\n"
     ]
    }
   ],
   "source": [
    "# Random Forest classification\n",
    "\n",
    "from sklearn.ensemble import RandomForestClassifier\n",
    "\n",
    "RandomForest_model = RandomForestClassifier(n_estimators=250,\n",
    "                                            max_depth=12,\n",
    "                                            min_samples_leaf=16)\n",
    "\n",
    "RandomForest_model.fit(x_train, y_train)\n",
    "\n",
    "print('Random Forest Model Accuracy : ', RandomForest_model.score(x_test, y_test)*100, '%')\n",
    "\n",
    "prediction = RandomForest_model.predict(x_test)\n",
    "print('\\nConfusion matrix :')\n",
    "print(confusion_matrix(y_test, prediction))\n",
    "      \n",
    "print('\\nClassification report:')      \n",
    "print(classification_report(y_test, prediction))"
   ]
  },
  {
   "cell_type": "code",
   "execution_count": 39,
   "id": "7863db61",
   "metadata": {},
   "outputs": [
    {
     "name": "stdout",
     "output_type": "stream",
     "text": [
      "Support Vector Classifier Accuracy :  78.84267631103074 %\n",
      "\n",
      "Confusion matrix :\n",
      "[[1744    0]\n",
      " [ 468    0]]\n",
      "\n",
      "Classification report:\n",
      "              precision    recall  f1-score   support\n",
      "\n",
      "           0       0.79      1.00      0.88      1744\n",
      "           1       0.00      0.00      0.00       468\n",
      "\n",
      "    accuracy                           0.79      2212\n",
      "   macro avg       0.39      0.50      0.44      2212\n",
      "weighted avg       0.62      0.79      0.70      2212\n",
      "\n"
     ]
    }
   ],
   "source": [
    "# Support Vector Machine classification\n",
    "\n",
    "from sklearn.svm import SVC\n",
    "\n",
    "svc_model = SVC()\n",
    "\n",
    "svc_model.fit(x_train, y_train)\n",
    "\n",
    "print('Support Vector Classifier Accuracy : ', svc_model.score(x_test, y_test)*100, '%')\n",
    "\n",
    "prediction = svc_model.predict(x_test)\n",
    "print('\\nConfusion matrix :')\n",
    "print(confusion_matrix(y_test, prediction))\n",
    "      \n",
    "print('\\nClassification report:')      \n",
    "print(classification_report(y_test, prediction))"
   ]
  },
  {
   "cell_type": "code",
   "execution_count": 40,
   "id": "2d8676ae",
   "metadata": {},
   "outputs": [
    {
     "name": "stdout",
     "output_type": "stream",
     "text": [
      "KNN Model Accuracy :  76.58227848101265 %\n",
      "\n",
      "Confusion matrix :\n",
      "[[1684   60]\n",
      " [ 458   10]]\n",
      "\n",
      "Classification report:\n",
      "              precision    recall  f1-score   support\n",
      "\n",
      "           0       0.79      0.97      0.87      1744\n",
      "           1       0.14      0.02      0.04       468\n",
      "\n",
      "    accuracy                           0.77      2212\n",
      "   macro avg       0.46      0.49      0.45      2212\n",
      "weighted avg       0.65      0.77      0.69      2212\n",
      "\n"
     ]
    }
   ],
   "source": [
    "# K Nearest Neighbor classification\n",
    "\n",
    "from sklearn.neighbors import KNeighborsClassifier\n",
    "\n",
    "knn_model = KNeighborsClassifier(n_neighbors = 7)\n",
    "\n",
    "knn_model.fit(x_train, y_train)\n",
    "\n",
    "print('KNN Model Accuracy : ', knn_model.score(x_test, y_test)*100, '%')\n",
    "\n",
    "prediction = knn_model.predict(x_test)\n",
    "print('\\nConfusion matrix :')\n",
    "print(confusion_matrix(y_test, prediction))\n",
    "      \n",
    "print('\\nClassification report:')      \n",
    "print(classification_report(y_test, prediction))"
   ]
  },
  {
   "cell_type": "code",
   "execution_count": 41,
   "id": "2b910955",
   "metadata": {},
   "outputs": [
    {
     "name": "stdout",
     "output_type": "stream",
     "text": [
      "XGBoost Model Accuracy :  75.72332730560579 %\n",
      "\n",
      "Confusion matrix :\n",
      "[[1664   80]\n",
      " [ 457   11]]\n",
      "\n",
      "Classification report:\n",
      "              precision    recall  f1-score   support\n",
      "\n",
      "           0       0.78      0.95      0.86      1744\n",
      "           1       0.12      0.02      0.04       468\n",
      "\n",
      "    accuracy                           0.76      2212\n",
      "   macro avg       0.45      0.49      0.45      2212\n",
      "weighted avg       0.64      0.76      0.69      2212\n",
      "\n"
     ]
    }
   ],
   "source": [
    "# XGBoost  classification\n",
    "\n",
    "from xgboost import XGBClassifier\n",
    "\n",
    "XGB_model = XGBClassifier()\n",
    "\n",
    "XGB_model.fit(x_train, y_train)\n",
    "\n",
    "print('XGBoost Model Accuracy : ', XGB_model.score(x_test, y_test)*100, '%')\n",
    "\n",
    "prediction = XGB_model.predict(x_test)\n",
    "print('\\nConfusion matrix :')\n",
    "print(confusion_matrix(y_test, prediction))\n",
    "      \n",
    "print('\\nClassification report:')      \n",
    "print(classification_report(y_test, prediction))"
   ]
  },
  {
   "cell_type": "code",
   "execution_count": 44,
   "id": "49ec22b0",
   "metadata": {},
   "outputs": [],
   "source": [
    "# scaling all features\n",
    "from sklearn.preprocessing import MinMaxScaler\n",
    "MMS = MinMaxScaler()\n",
    "x_train_scaled = pd.DataFrame(MMS.fit_transform(x_train), columns=x_train.columns)\n",
    "x_test_scaled = pd.DataFrame(MMS.transform(x_test), columns=x_test.columns)"
   ]
  },
  {
   "cell_type": "code",
   "execution_count": 46,
   "id": "12cc2cbc",
   "metadata": {},
   "outputs": [],
   "source": [
    "# adding samples to minority class using SMOTE\n",
    "from imblearn.over_sampling import SMOTE\n",
    "oversample = SMOTE()\n",
    "\n",
    "x_train_oversam, y_train_oversam = oversample.fit_resample(x_train_scaled, y_train)\n",
    "x_test_oversam, y_test_oversam = oversample.fit_resample(x_test_scaled, y_test)"
   ]
  },
  {
   "cell_type": "code",
   "execution_count": 47,
   "id": "6f575961",
   "metadata": {},
   "outputs": [
    {
     "data": {
      "text/plain": [
       "0    78.430929\n",
       "1    21.569071\n",
       "Name: STATUS, dtype: float64"
      ]
     },
     "execution_count": 47,
     "metadata": {},
     "output_type": "execute_result"
    }
   ],
   "source": [
    "# Original majority and minority class\n",
    "y_train.value_counts(normalize=True)*100"
   ]
  },
  {
   "cell_type": "code",
   "execution_count": 48,
   "id": "061fd982",
   "metadata": {},
   "outputs": [
    {
     "data": {
      "text/plain": [
       "0    50.0\n",
       "1    50.0\n",
       "Name: STATUS, dtype: float64"
      ]
     },
     "execution_count": 48,
     "metadata": {},
     "output_type": "execute_result"
    }
   ],
   "source": [
    "# after using SMOTE \n",
    "y_train_oversam.value_counts(normalize=True)*100"
   ]
  },
  {
   "cell_type": "code",
   "execution_count": 49,
   "id": "a6a42e48",
   "metadata": {},
   "outputs": [
    {
     "name": "stdout",
     "output_type": "stream",
     "text": [
      "Logistic Model Accuracy :  52.80963302752294 %\n",
      "\n",
      "Confusion matrix :\n",
      "[[957 787]\n",
      " [859 885]]\n",
      "\n",
      "Classification report:\n",
      "              precision    recall  f1-score   support\n",
      "\n",
      "           0       0.53      0.55      0.54      1744\n",
      "           1       0.53      0.51      0.52      1744\n",
      "\n",
      "    accuracy                           0.53      3488\n",
      "   macro avg       0.53      0.53      0.53      3488\n",
      "weighted avg       0.53      0.53      0.53      3488\n",
      "\n"
     ]
    }
   ],
   "source": [
    "# Logistic Regression\n",
    "\n",
    "from sklearn.linear_model import LogisticRegression\n",
    "from sklearn.metrics import classification_report, accuracy_score, confusion_matrix\n",
    "\n",
    "log_model = LogisticRegression()\n",
    "log_model.fit(x_train_oversam, y_train_oversam)\n",
    "\n",
    "print('Logistic Model Accuracy : ', log_model.score(x_test_oversam, y_test_oversam)*100, '%')\n",
    "\n",
    "prediction = log_model.predict(x_test_oversam)\n",
    "print('\\nConfusion matrix :')\n",
    "print(confusion_matrix(y_test_oversam, prediction))\n",
    "      \n",
    "print('\\nClassification report:')      \n",
    "print(classification_report(y_test_oversam, prediction))"
   ]
  },
  {
   "cell_type": "code",
   "execution_count": 50,
   "id": "b993fc71",
   "metadata": {},
   "outputs": [
    {
     "name": "stdout",
     "output_type": "stream",
     "text": [
      "Decision Tree Model Accuracy :  74.62729357798165 %\n",
      "\n",
      "Confusion matrix :\n",
      "[[1586  158]\n",
      " [ 727 1017]]\n",
      "\n",
      "Classification report:\n",
      "              precision    recall  f1-score   support\n",
      "\n",
      "           0       0.69      0.91      0.78      1744\n",
      "           1       0.87      0.58      0.70      1744\n",
      "\n",
      "    accuracy                           0.75      3488\n",
      "   macro avg       0.78      0.75      0.74      3488\n",
      "weighted avg       0.78      0.75      0.74      3488\n",
      "\n"
     ]
    }
   ],
   "source": [
    "# Decision Tree classification\n",
    "\n",
    "from sklearn.tree import DecisionTreeClassifier\n",
    "\n",
    "decision_model = DecisionTreeClassifier(max_depth=12,min_samples_split=8)\n",
    "\n",
    "decision_model.fit(x_train_oversam, y_train_oversam)\n",
    "\n",
    "print('Decision Tree Model Accuracy : ', decision_model.score(x_test_oversam, y_test_oversam)*100, '%')\n",
    "\n",
    "prediction = decision_model.predict(x_test_oversam)\n",
    "print('\\nConfusion matrix :')\n",
    "print(confusion_matrix(y_test_oversam, prediction))\n",
    "      \n",
    "print('\\nClassification report:')      \n",
    "print(classification_report(y_test_oversam, prediction))\n"
   ]
  },
  {
   "cell_type": "code",
   "execution_count": 53,
   "id": "286fe61d",
   "metadata": {},
   "outputs": [
    {
     "name": "stdout",
     "output_type": "stream",
     "text": [
      "Random Forest Model Accuracy :  75.80275229357798 %\n",
      "\n",
      "Confusion matrix :\n",
      "[[1403  341]\n",
      " [ 503 1241]]\n",
      "\n",
      "Classification report:\n",
      "              precision    recall  f1-score   support\n",
      "\n",
      "           0       0.74      0.80      0.77      1744\n",
      "           1       0.78      0.71      0.75      1744\n",
      "\n",
      "    accuracy                           0.76      3488\n",
      "   macro avg       0.76      0.76      0.76      3488\n",
      "weighted avg       0.76      0.76      0.76      3488\n",
      "\n"
     ]
    }
   ],
   "source": [
    "\n",
    "from sklearn.ensemble import RandomForestClassifier\n",
    "\n",
    "RandomForest_model = RandomForestClassifier(n_estimators=250,\n",
    "                                            max_depth=12,\n",
    "                                            min_samples_leaf=16)\n",
    "\n",
    "RandomForest_model.fit(x_train_oversam, y_train_oversam)\n",
    "\n",
    "print('Random Forest Model Accuracy : ', RandomForest_model.score(x_test_oversam, y_test_oversam)*100, '%')\n",
    "\n",
    "prediction = RandomForest_model.predict(x_test_oversam)\n",
    "print('\\nConfusion matrix :')\n",
    "print(confusion_matrix(y_test_oversam, prediction))\n",
    "      \n",
    "print('\\nClassification report:')      \n",
    "print(classification_report(y_test_oversam, prediction))"
   ]
  },
  {
   "cell_type": "code",
   "execution_count": 52,
   "id": "b1f6afa7",
   "metadata": {},
   "outputs": [
    {
     "name": "stdout",
     "output_type": "stream",
     "text": [
      "Support Vector Classifier Accuracy :  50.0 %\n",
      "\n",
      "Confusion matrix :\n",
      "[[917 827]\n",
      " [917 827]]\n",
      "\n",
      "Classification report:\n",
      "              precision    recall  f1-score   support\n",
      "\n",
      "           0       0.50      0.53      0.51      1744\n",
      "           1       0.50      0.47      0.49      1744\n",
      "\n",
      "    accuracy                           0.50      3488\n",
      "   macro avg       0.50      0.50      0.50      3488\n",
      "weighted avg       0.50      0.50      0.50      3488\n",
      "\n"
     ]
    }
   ],
   "source": [
    "# Support Vector Machine classification\n",
    "\n",
    "from sklearn.svm import SVC\n",
    "\n",
    "svc_model = SVC()\n",
    "\n",
    "svc_model.fit(x_train_oversam, y_train_oversam)\n",
    "\n",
    "print('Support Vector Classifier Accuracy : ', svc_model.score(x_test_oversam, y_test_oversam)*100, '%')\n",
    "\n",
    "prediction = svc_model.predict(x_test_oversam)\n",
    "print('\\nConfusion matrix :')\n",
    "print(confusion_matrix(y_test_oversam, prediction))\n",
    "      \n",
    "print('\\nClassification report:')      \n",
    "print(classification_report(y_test_oversam, prediction))"
   ]
  },
  {
   "cell_type": "code",
   "execution_count": 54,
   "id": "99c05c87",
   "metadata": {},
   "outputs": [
    {
     "name": "stdout",
     "output_type": "stream",
     "text": [
      "KNN Model Accuracy :  45.0401376146789 %\n",
      "\n",
      "Confusion matrix :\n",
      "[[ 850  894]\n",
      " [1023  721]]\n",
      "\n",
      "Classification report:\n",
      "              precision    recall  f1-score   support\n",
      "\n",
      "           0       0.45      0.49      0.47      1744\n",
      "           1       0.45      0.41      0.43      1744\n",
      "\n",
      "    accuracy                           0.45      3488\n",
      "   macro avg       0.45      0.45      0.45      3488\n",
      "weighted avg       0.45      0.45      0.45      3488\n",
      "\n"
     ]
    }
   ],
   "source": [
    "# K Nearest Neighbor classification\n",
    "\n",
    "from sklearn.neighbors import KNeighborsClassifier\n",
    "\n",
    "knn_model = KNeighborsClassifier(n_neighbors = 7)\n",
    "\n",
    "knn_model.fit(x_train_oversam, y_train_oversam)\n",
    "\n",
    "print('KNN Model Accuracy : ', knn_model.score(x_test_oversam, y_test_oversam)*100, '%')\n",
    "\n",
    "prediction = knn_model.predict(x_test_oversam)\n",
    "print('\\nConfusion matrix :')\n",
    "print(confusion_matrix(y_test_oversam, prediction))\n",
    "      \n",
    "print('\\nClassification report:')      \n",
    "print(classification_report(y_test_oversam, prediction))"
   ]
  },
  {
   "cell_type": "code",
   "execution_count": 55,
   "id": "0656721f",
   "metadata": {},
   "outputs": [
    {
     "name": "stdout",
     "output_type": "stream",
     "text": [
      "XGBoost Model Accuracy :  83.85894495412845 %\n",
      "\n",
      "Confusion matrix :\n",
      "[[1643  101]\n",
      " [ 462 1282]]\n",
      "\n",
      "Classification report:\n",
      "              precision    recall  f1-score   support\n",
      "\n",
      "           0       0.78      0.94      0.85      1744\n",
      "           1       0.93      0.74      0.82      1744\n",
      "\n",
      "    accuracy                           0.84      3488\n",
      "   macro avg       0.85      0.84      0.84      3488\n",
      "weighted avg       0.85      0.84      0.84      3488\n",
      "\n"
     ]
    }
   ],
   "source": [
    "# XGBoost  classification\n",
    "\n",
    "from xgboost import XGBClassifier\n",
    "\n",
    "XGB_model = XGBClassifier()\n",
    "\n",
    "XGB_model.fit(x_train_oversam, y_train_oversam)\n",
    "\n",
    "print('XGBoost Model Accuracy : ', XGB_model.score(x_test_oversam, y_test_oversam)*100, '%')\n",
    "\n",
    "prediction = XGB_model.predict(x_test_oversam)\n",
    "print('\\nConfusion matrix :')\n",
    "print(confusion_matrix(y_test_oversam, prediction))\n",
    "      \n",
    "print('\\nClassification report:')      \n",
    "print(classification_report(y_test_oversam, prediction))"
   ]
  },
  {
   "cell_type": "code",
   "execution_count": 56,
   "id": "9f83923a",
   "metadata": {},
   "outputs": [],
   "source": [
    "from sklearn.model_selection import KFold\n",
    "from sklearn.model_selection import cross_val_score\n",
    "kfold = KFold(5)"
   ]
  },
  {
   "cell_type": "code",
   "execution_count": 57,
   "id": "9aeb14a2",
   "metadata": {},
   "outputs": [
    {
     "name": "stdout",
     "output_type": "stream",
     "text": [
      "[80.24412297 81.05786618 78.70705244 80.68747173 71.86793306] \n",
      "\n",
      "78.51288927710615\n"
     ]
    }
   ],
   "source": [
    "# Logistic Regression\n",
    "\n",
    "results=cross_val_score(log_model,features,label,cv=kfold)\n",
    "print(results*100,'\\n')\n",
    "\n",
    "print(np.mean(results)*100)"
   ]
  },
  {
   "cell_type": "code",
   "execution_count": 58,
   "id": "66c2058e",
   "metadata": {},
   "outputs": [
    {
     "name": "stdout",
     "output_type": "stream",
     "text": [
      "[78.34538879 79.4755877  76.17540687 78.65219358 70.42062415] \n",
      "\n",
      "76.61384021860123\n"
     ]
    }
   ],
   "source": [
    "# Decision Tree classification\n",
    "\n",
    "results=cross_val_score(decision_model,features,label,cv=kfold)\n",
    "print(results*100,'\\n')\n",
    "\n",
    "print(np.mean(results)*100)"
   ]
  },
  {
   "cell_type": "code",
   "execution_count": 59,
   "id": "8e6b55e0",
   "metadata": {},
   "outputs": [
    {
     "name": "stdout",
     "output_type": "stream",
     "text": [
      "[80.24412297 81.05786618 78.70705244 80.68747173 71.86793306] \n",
      "\n",
      "78.51288927710615\n"
     ]
    }
   ],
   "source": [
    "# Random Forest classification\n",
    "\n",
    "results=cross_val_score(RandomForest_model,features,label,cv=kfold)\n",
    "print(results*100,'\\n')\n",
    "\n",
    "print(np.mean(results)*100)"
   ]
  },
  {
   "cell_type": "code",
   "execution_count": 60,
   "id": "3b94b767",
   "metadata": {},
   "outputs": [
    {
     "name": "stdout",
     "output_type": "stream",
     "text": [
      "[80.24412297 81.05786618 78.70705244 80.68747173 71.86793306] \n",
      "\n",
      "78.51288927710615\n"
     ]
    }
   ],
   "source": [
    "# Support Vector Machine classification\n",
    "\n",
    "results=cross_val_score(svc_model,features,label,cv=kfold)\n",
    "print(results*100,'\\n')\n",
    "\n",
    "print(np.mean(results)*100)"
   ]
  },
  {
   "cell_type": "code",
   "execution_count": 61,
   "id": "976be8f9",
   "metadata": {},
   "outputs": [
    {
     "name": "stdout",
     "output_type": "stream",
     "text": [
      "[78.97830018 79.92766727 77.93851718 79.28539123 71.50610583] \n",
      "\n",
      "77.5271963378897\n"
     ]
    }
   ],
   "source": [
    "# K Nearest Neighbor classification\n",
    "\n",
    "results=cross_val_score(knn_model,features,label,cv=kfold)\n",
    "print(results*100,'\\n')\n",
    "\n",
    "print(np.mean(results)*100)"
   ]
  },
  {
   "cell_type": "code",
   "execution_count": 62,
   "id": "33e8dfdf",
   "metadata": {},
   "outputs": [
    {
     "name": "stdout",
     "output_type": "stream",
     "text": [
      "[79.70162749 80.37974684 78.02893309 80.00904568 71.64179104] \n",
      "\n",
      "77.95222882791369\n"
     ]
    }
   ],
   "source": [
    "# XGBoost classification\n",
    "\n",
    "results=cross_val_score(XGB_model,features,label,cv=kfold)\n",
    "print(results*100,'\\n')\n",
    "\n",
    "print(np.mean(results)*100)"
   ]
  },
  {
   "cell_type": "code",
   "execution_count": null,
   "id": "59ea9ba4",
   "metadata": {},
   "outputs": [],
   "source": [
    "#As we have seen that,\n",
    "#XGBoost Model is giving highest accuracy of 84.14 %, hence we will use XGBoost Model for predicion"
   ]
  },
  {
   "cell_type": "code",
   "execution_count": null,
   "id": "e497b899",
   "metadata": {},
   "outputs": [],
   "source": []
  },
  {
   "cell_type": "code",
   "execution_count": null,
   "id": "89ceb8e4",
   "metadata": {},
   "outputs": [],
   "source": []
  },
  {
   "cell_type": "code",
   "execution_count": null,
   "id": "ee040471",
   "metadata": {},
   "outputs": [],
   "source": []
  },
  {
   "cell_type": "code",
   "execution_count": null,
   "id": "f1f736eb",
   "metadata": {},
   "outputs": [],
   "source": []
  }
 ],
 "metadata": {
  "kernelspec": {
   "display_name": "Python 3 (ipykernel)",
   "language": "python",
   "name": "python3"
  },
  "language_info": {
   "codemirror_mode": {
    "name": "ipython",
    "version": 3
   },
   "file_extension": ".py",
   "mimetype": "text/x-python",
   "name": "python",
   "nbconvert_exporter": "python",
   "pygments_lexer": "ipython3",
   "version": "3.9.15"
  }
 },
 "nbformat": 4,
 "nbformat_minor": 5
}
